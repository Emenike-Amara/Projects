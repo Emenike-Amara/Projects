{
  "nbformat": 4,
  "nbformat_minor": 0,
  "metadata": {
    "colab": {
      "provenance": [],
      "authorship_tag": "ABX9TyNXS7UOp95qRdpGfq08hoZF",
      "include_colab_link": true
    },
    "kernelspec": {
      "name": "python3",
      "display_name": "Python 3"
    },
    "language_info": {
      "name": "python"
    }
  },
  "cells": [
    {
      "cell_type": "markdown",
      "metadata": {
        "id": "view-in-github",
        "colab_type": "text"
      },
      "source": [
        "<a href=\"https://colab.research.google.com/github/Emenike-Amara/Projects/blob/main/Generating_Synthetic_Data_with_SDV.ipynb\" target=\"_parent\"><img src=\"https://colab.research.google.com/assets/colab-badge.svg\" alt=\"Open In Colab\"/></a>"
      ]
    },
    {
      "cell_type": "markdown",
      "source": [
        "# ℹ Promblem Statement\n",
        "\n",
        "\n",
        "> There is a plethora of use cases on why synthetic data is required for certain analytics projects. These use cases includes Data Modeling and Algorithm Development, validate data pipelines, data integration processes, and data analytics workflows. Today, we have various methods to generate synthentic data like random sampling or data perturbation, generative adversarial networks (GANs). However, some of this methods may require more time and computational resoures. \n",
        "This project shows how to leverage SDV model to generate synthetic data for in shorter time and with less computational resources.\n",
        "\n",
        "Below is the python sript to help achieve this:\n",
        "\n",
        "\n",
        "\n",
        "\n",
        "\n"
      ],
      "metadata": {
        "id": "mIZ6TSXGHKNm"
      }
    },
    {
      "cell_type": "markdown",
      "source": [
        "# ▶ Step 1:  Install the sdv library\n",
        "\n",
        "> Use your corresponding pip version"
      ],
      "metadata": {
        "id": "Ygx0gjI0nqkv"
      }
    },
    {
      "cell_type": "code",
      "source": [
        "pip install sdv==1.0.0b0          "
      ],
      "metadata": {
        "id": "puoxex9Rnxh6"
      },
      "execution_count": null,
      "outputs": []
    },
    {
      "cell_type": "code",
      "source": [
        "import pandas as pd\n",
        "import numpy as np"
      ],
      "metadata": {
        "id": "q-9APkPWn2HD"
      },
      "execution_count": null,
      "outputs": []
    },
    {
      "cell_type": "markdown",
      "source": [
        "# ▶ Step 2: Load sample data to provide context to the model \n",
        "> An xlsx in my locale so I would have to upload the xlsx on my drive and connect (entirely different on jupyter notebook)\n",
        "\n"
      ],
      "metadata": {
        "id": "gMn7XdbXn5uo"
      }
    },
    {
      "cell_type": "code",
      "source": [
        "from google.colab import drive\n",
        "drive.mount('/content/drive')"
      ],
      "metadata": {
        "colab": {
          "base_uri": "https://localhost:8080/"
        },
        "id": "z5DSDRrun8dh",
        "outputId": "e06a5144-2afa-4d2f-ce1e-2c158e4f7141"
      },
      "execution_count": null,
      "outputs": [
        {
          "output_type": "stream",
          "name": "stdout",
          "text": [
            "Mounted at /content/drive\n"
          ]
        }
      ]
    },
    {
      "cell_type": "code",
      "source": [
        "path='/content/drive/My Drive/test data.xlsx'\n",
        "real_data = pd.read_excel(path)"
      ],
      "metadata": {
        "id": "pGne-0CNpJWq"
      },
      "execution_count": null,
      "outputs": []
    },
    {
      "cell_type": "code",
      "source": [
        "real_data.head()"
      ],
      "metadata": {
        "colab": {
          "base_uri": "https://localhost:8080/",
          "height": 206
        },
        "id": "xicj_l0jqeIm",
        "outputId": "85b03458-4271-42b2-f1d9-08ee85cd925c"
      },
      "execution_count": null,
      "outputs": [
        {
          "output_type": "execute_result",
          "data": {
            "text/plain": [
              "                  txn_date  account_number                    email  \\\n",
              "0  2023-02-01 06:05:18.223         1898340  michaelsanders@shaw.net   \n",
              "1  2023-02-01 13:42:17.277         6708396        randy49@brown.biz   \n",
              "2   2023-02-01 13:42:17.54         2218718    webermelissa@neal.com   \n",
              "3   2023-02-01 13:42:28.61         1146525          gsims@terry.com   \n",
              "4   2023-02-01 05:55:45.07         6708196        misty33@smith.biz   \n",
              "\n",
              "  debitcreditindicator  transactionamount currency  current_balance  \n",
              "0                    C             976.00      NGN         70840.00  \n",
              "1                    D           14493.23      ZAR          1610.36  \n",
              "2                    C              96.71      USD            96.75  \n",
              "3                    D           11296.04      USD             0.00  \n",
              "4                    C           14928.32      ZAR         16103.59  "
            ],
            "text/html": [
              "\n",
              "  <div id=\"df-c2ab1f6e-3a6d-41ad-9b47-3d08bc26e8f5\">\n",
              "    <div class=\"colab-df-container\">\n",
              "      <div>\n",
              "<style scoped>\n",
              "    .dataframe tbody tr th:only-of-type {\n",
              "        vertical-align: middle;\n",
              "    }\n",
              "\n",
              "    .dataframe tbody tr th {\n",
              "        vertical-align: top;\n",
              "    }\n",
              "\n",
              "    .dataframe thead th {\n",
              "        text-align: right;\n",
              "    }\n",
              "</style>\n",
              "<table border=\"1\" class=\"dataframe\">\n",
              "  <thead>\n",
              "    <tr style=\"text-align: right;\">\n",
              "      <th></th>\n",
              "      <th>txn_date</th>\n",
              "      <th>account_number</th>\n",
              "      <th>email</th>\n",
              "      <th>debitcreditindicator</th>\n",
              "      <th>transactionamount</th>\n",
              "      <th>currency</th>\n",
              "      <th>current_balance</th>\n",
              "    </tr>\n",
              "  </thead>\n",
              "  <tbody>\n",
              "    <tr>\n",
              "      <th>0</th>\n",
              "      <td>2023-02-01 06:05:18.223</td>\n",
              "      <td>1898340</td>\n",
              "      <td>michaelsanders@shaw.net</td>\n",
              "      <td>C</td>\n",
              "      <td>976.00</td>\n",
              "      <td>NGN</td>\n",
              "      <td>70840.00</td>\n",
              "    </tr>\n",
              "    <tr>\n",
              "      <th>1</th>\n",
              "      <td>2023-02-01 13:42:17.277</td>\n",
              "      <td>6708396</td>\n",
              "      <td>randy49@brown.biz</td>\n",
              "      <td>D</td>\n",
              "      <td>14493.23</td>\n",
              "      <td>ZAR</td>\n",
              "      <td>1610.36</td>\n",
              "    </tr>\n",
              "    <tr>\n",
              "      <th>2</th>\n",
              "      <td>2023-02-01 13:42:17.54</td>\n",
              "      <td>2218718</td>\n",
              "      <td>webermelissa@neal.com</td>\n",
              "      <td>C</td>\n",
              "      <td>96.71</td>\n",
              "      <td>USD</td>\n",
              "      <td>96.75</td>\n",
              "    </tr>\n",
              "    <tr>\n",
              "      <th>3</th>\n",
              "      <td>2023-02-01 13:42:28.61</td>\n",
              "      <td>1146525</td>\n",
              "      <td>gsims@terry.com</td>\n",
              "      <td>D</td>\n",
              "      <td>11296.04</td>\n",
              "      <td>USD</td>\n",
              "      <td>0.00</td>\n",
              "    </tr>\n",
              "    <tr>\n",
              "      <th>4</th>\n",
              "      <td>2023-02-01 05:55:45.07</td>\n",
              "      <td>6708196</td>\n",
              "      <td>misty33@smith.biz</td>\n",
              "      <td>C</td>\n",
              "      <td>14928.32</td>\n",
              "      <td>ZAR</td>\n",
              "      <td>16103.59</td>\n",
              "    </tr>\n",
              "  </tbody>\n",
              "</table>\n",
              "</div>\n",
              "      <button class=\"colab-df-convert\" onclick=\"convertToInteractive('df-c2ab1f6e-3a6d-41ad-9b47-3d08bc26e8f5')\"\n",
              "              title=\"Convert this dataframe to an interactive table.\"\n",
              "              style=\"display:none;\">\n",
              "        \n",
              "  <svg xmlns=\"http://www.w3.org/2000/svg\" height=\"24px\"viewBox=\"0 0 24 24\"\n",
              "       width=\"24px\">\n",
              "    <path d=\"M0 0h24v24H0V0z\" fill=\"none\"/>\n",
              "    <path d=\"M18.56 5.44l.94 2.06.94-2.06 2.06-.94-2.06-.94-.94-2.06-.94 2.06-2.06.94zm-11 1L8.5 8.5l.94-2.06 2.06-.94-2.06-.94L8.5 2.5l-.94 2.06-2.06.94zm10 10l.94 2.06.94-2.06 2.06-.94-2.06-.94-.94-2.06-.94 2.06-2.06.94z\"/><path d=\"M17.41 7.96l-1.37-1.37c-.4-.4-.92-.59-1.43-.59-.52 0-1.04.2-1.43.59L10.3 9.45l-7.72 7.72c-.78.78-.78 2.05 0 2.83L4 21.41c.39.39.9.59 1.41.59.51 0 1.02-.2 1.41-.59l7.78-7.78 2.81-2.81c.8-.78.8-2.07 0-2.86zM5.41 20L4 18.59l7.72-7.72 1.47 1.35L5.41 20z\"/>\n",
              "  </svg>\n",
              "      </button>\n",
              "      \n",
              "  <style>\n",
              "    .colab-df-container {\n",
              "      display:flex;\n",
              "      flex-wrap:wrap;\n",
              "      gap: 12px;\n",
              "    }\n",
              "\n",
              "    .colab-df-convert {\n",
              "      background-color: #E8F0FE;\n",
              "      border: none;\n",
              "      border-radius: 50%;\n",
              "      cursor: pointer;\n",
              "      display: none;\n",
              "      fill: #1967D2;\n",
              "      height: 32px;\n",
              "      padding: 0 0 0 0;\n",
              "      width: 32px;\n",
              "    }\n",
              "\n",
              "    .colab-df-convert:hover {\n",
              "      background-color: #E2EBFA;\n",
              "      box-shadow: 0px 1px 2px rgba(60, 64, 67, 0.3), 0px 1px 3px 1px rgba(60, 64, 67, 0.15);\n",
              "      fill: #174EA6;\n",
              "    }\n",
              "\n",
              "    [theme=dark] .colab-df-convert {\n",
              "      background-color: #3B4455;\n",
              "      fill: #D2E3FC;\n",
              "    }\n",
              "\n",
              "    [theme=dark] .colab-df-convert:hover {\n",
              "      background-color: #434B5C;\n",
              "      box-shadow: 0px 1px 3px 1px rgba(0, 0, 0, 0.15);\n",
              "      filter: drop-shadow(0px 1px 2px rgba(0, 0, 0, 0.3));\n",
              "      fill: #FFFFFF;\n",
              "    }\n",
              "  </style>\n",
              "\n",
              "      <script>\n",
              "        const buttonEl =\n",
              "          document.querySelector('#df-c2ab1f6e-3a6d-41ad-9b47-3d08bc26e8f5 button.colab-df-convert');\n",
              "        buttonEl.style.display =\n",
              "          google.colab.kernel.accessAllowed ? 'block' : 'none';\n",
              "\n",
              "        async function convertToInteractive(key) {\n",
              "          const element = document.querySelector('#df-c2ab1f6e-3a6d-41ad-9b47-3d08bc26e8f5');\n",
              "          const dataTable =\n",
              "            await google.colab.kernel.invokeFunction('convertToInteractive',\n",
              "                                                     [key], {});\n",
              "          if (!dataTable) return;\n",
              "\n",
              "          const docLinkHtml = 'Like what you see? Visit the ' +\n",
              "            '<a target=\"_blank\" href=https://colab.research.google.com/notebooks/data_table.ipynb>data table notebook</a>'\n",
              "            + ' to learn more about interactive tables.';\n",
              "          element.innerHTML = '';\n",
              "          dataTable['output_type'] = 'display_data';\n",
              "          await google.colab.output.renderOutput(dataTable, element);\n",
              "          const docLink = document.createElement('div');\n",
              "          docLink.innerHTML = docLinkHtml;\n",
              "          element.appendChild(docLink);\n",
              "        }\n",
              "      </script>\n",
              "    </div>\n",
              "  </div>\n",
              "  "
            ]
          },
          "metadata": {},
          "execution_count": 9
        }
      ]
    },
    {
      "cell_type": "markdown",
      "source": [
        "# ▶ Step 3 : Creating a metadata\n",
        "This is necessary to enable the synthesizer on the best way to replicate the data taking into consideration the primary key"
      ],
      "metadata": {
        "id": "ZYI_ILYPqjhd"
      }
    },
    {
      "cell_type": "code",
      "source": [],
      "metadata": {
        "id": "T3zIh8C5Lbyl"
      },
      "execution_count": null,
      "outputs": []
    },
    {
      "cell_type": "code",
      "source": [
        "from sdv.metadata import SingleTableMetadata        \n",
        "\n",
        "metadata = SingleTableMetadata()"
      ],
      "metadata": {
        "id": "WGG_BI02qzav"
      },
      "execution_count": null,
      "outputs": []
    },
    {
      "cell_type": "code",
      "source": [
        "metadata.detect_from_dataframe(real_data)"
      ],
      "metadata": {
        "id": "qyapYtGwq2xx"
      },
      "execution_count": null,
      "outputs": []
    },
    {
      "cell_type": "code",
      "source": [
        "python_dict = metadata.to_dict()"
      ],
      "metadata": {
        "id": "9zD1rI7fq6tA"
      },
      "execution_count": null,
      "outputs": []
    },
    {
      "cell_type": "code",
      "source": [
        "metadata"
      ],
      "metadata": {
        "colab": {
          "base_uri": "https://localhost:8080/"
        },
        "id": "olmjp3VQq-uw",
        "outputId": "b72ac929-cdb5-4b16-fb32-82f5b3389f7f"
      },
      "execution_count": null,
      "outputs": [
        {
          "output_type": "execute_result",
          "data": {
            "text/plain": [
              "{\n",
              "    \"METADATA_SPEC_VERSION\": \"SINGLE_TABLE_V1\",\n",
              "    \"columns\": {\n",
              "        \"txn_date\": {\n",
              "            \"sdtype\": \"categorical\"\n",
              "        },\n",
              "        \"account_number\": {\n",
              "            \"sdtype\": \"numerical\"\n",
              "        },\n",
              "        \"email\": {\n",
              "            \"sdtype\": \"categorical\"\n",
              "        },\n",
              "        \"debitcreditindicator\": {\n",
              "            \"sdtype\": \"categorical\"\n",
              "        },\n",
              "        \"transactionamount\": {\n",
              "            \"sdtype\": \"numerical\"\n",
              "        },\n",
              "        \"currency\": {\n",
              "            \"sdtype\": \"categorical\"\n",
              "        },\n",
              "        \"current_balance\": {\n",
              "            \"sdtype\": \"numerical\"\n",
              "        }\n",
              "    }\n",
              "}"
            ]
          },
          "metadata": {},
          "execution_count": 13
        }
      ]
    },
    {
      "cell_type": "markdown",
      "source": [
        "Creating a synthesizer"
      ],
      "metadata": {
        "id": "OYPAOXbcrHWD"
      }
    },
    {
      "cell_type": "code",
      "source": [
        "from sdv.lite import SingleTablePreset\n",
        "\n",
        "synthesizer = SingleTablePreset(\n",
        "    metadata,\n",
        "    name='FAST_ML'\n",
        ")"
      ],
      "metadata": {
        "id": "2B5D-3WMrLyI"
      },
      "execution_count": null,
      "outputs": []
    },
    {
      "cell_type": "code",
      "source": [
        "synthetic_data = synthesizer.sample(\n",
        "    num_rows=500\n",
        ")\n",
        "\n",
        "synthetic_data.head()"
      ],
      "metadata": {
        "colab": {
          "base_uri": "https://localhost:8080/",
          "height": 206
        },
        "id": "Bvzpqwnf4iWh",
        "outputId": "495aec9c-27b9-4986-b54f-e5cbfbf6216e"
      },
      "execution_count": null,
      "outputs": [
        {
          "output_type": "execute_result",
          "data": {
            "text/plain": [
              "                  txn_date  account_number                    email  \\\n",
              "0   2023-02-28 13:28:08.72          913882  jonesernest@example.net   \n",
              "1   2023-02-13 05:38:30.42           71366           sims@terry.com   \n",
              "2  2023-02-16 13:54:08.067          336629  jonesernest@example.net   \n",
              "3   2023-02-24 16:45:21.53          639642        misty33@smith.biz   \n",
              "4  2023-02-22 16:24:13.317          438167        randy49@brown.biz   \n",
              "\n",
              "  debitcreditindicator  transactionamount currency  current_balance  \n",
              "0                    D           1.900000      ZAR     0.000000e+00  \n",
              "1                    D           1.900000      ZAR     1.631767e+06  \n",
              "2                    D      307396.272991      ZAR     0.000000e+00  \n",
              "3                    D           1.900000      ZAR     0.000000e+00  \n",
              "4                    D      602582.288893      USD     1.543423e+06  "
            ],
            "text/html": [
              "\n",
              "  <div id=\"df-c759e775-7978-44e2-a8f1-7fbbdbd55079\">\n",
              "    <div class=\"colab-df-container\">\n",
              "      <div>\n",
              "<style scoped>\n",
              "    .dataframe tbody tr th:only-of-type {\n",
              "        vertical-align: middle;\n",
              "    }\n",
              "\n",
              "    .dataframe tbody tr th {\n",
              "        vertical-align: top;\n",
              "    }\n",
              "\n",
              "    .dataframe thead th {\n",
              "        text-align: right;\n",
              "    }\n",
              "</style>\n",
              "<table border=\"1\" class=\"dataframe\">\n",
              "  <thead>\n",
              "    <tr style=\"text-align: right;\">\n",
              "      <th></th>\n",
              "      <th>txn_date</th>\n",
              "      <th>account_number</th>\n",
              "      <th>email</th>\n",
              "      <th>debitcreditindicator</th>\n",
              "      <th>transactionamount</th>\n",
              "      <th>currency</th>\n",
              "      <th>current_balance</th>\n",
              "    </tr>\n",
              "  </thead>\n",
              "  <tbody>\n",
              "    <tr>\n",
              "      <th>0</th>\n",
              "      <td>2023-02-28 13:28:08.72</td>\n",
              "      <td>913882</td>\n",
              "      <td>jonesernest@example.net</td>\n",
              "      <td>D</td>\n",
              "      <td>1.900000</td>\n",
              "      <td>ZAR</td>\n",
              "      <td>0.000000e+00</td>\n",
              "    </tr>\n",
              "    <tr>\n",
              "      <th>1</th>\n",
              "      <td>2023-02-13 05:38:30.42</td>\n",
              "      <td>71366</td>\n",
              "      <td>sims@terry.com</td>\n",
              "      <td>D</td>\n",
              "      <td>1.900000</td>\n",
              "      <td>ZAR</td>\n",
              "      <td>1.631767e+06</td>\n",
              "    </tr>\n",
              "    <tr>\n",
              "      <th>2</th>\n",
              "      <td>2023-02-16 13:54:08.067</td>\n",
              "      <td>336629</td>\n",
              "      <td>jonesernest@example.net</td>\n",
              "      <td>D</td>\n",
              "      <td>307396.272991</td>\n",
              "      <td>ZAR</td>\n",
              "      <td>0.000000e+00</td>\n",
              "    </tr>\n",
              "    <tr>\n",
              "      <th>3</th>\n",
              "      <td>2023-02-24 16:45:21.53</td>\n",
              "      <td>639642</td>\n",
              "      <td>misty33@smith.biz</td>\n",
              "      <td>D</td>\n",
              "      <td>1.900000</td>\n",
              "      <td>ZAR</td>\n",
              "      <td>0.000000e+00</td>\n",
              "    </tr>\n",
              "    <tr>\n",
              "      <th>4</th>\n",
              "      <td>2023-02-22 16:24:13.317</td>\n",
              "      <td>438167</td>\n",
              "      <td>randy49@brown.biz</td>\n",
              "      <td>D</td>\n",
              "      <td>602582.288893</td>\n",
              "      <td>USD</td>\n",
              "      <td>1.543423e+06</td>\n",
              "    </tr>\n",
              "  </tbody>\n",
              "</table>\n",
              "</div>\n",
              "      <button class=\"colab-df-convert\" onclick=\"convertToInteractive('df-c759e775-7978-44e2-a8f1-7fbbdbd55079')\"\n",
              "              title=\"Convert this dataframe to an interactive table.\"\n",
              "              style=\"display:none;\">\n",
              "        \n",
              "  <svg xmlns=\"http://www.w3.org/2000/svg\" height=\"24px\"viewBox=\"0 0 24 24\"\n",
              "       width=\"24px\">\n",
              "    <path d=\"M0 0h24v24H0V0z\" fill=\"none\"/>\n",
              "    <path d=\"M18.56 5.44l.94 2.06.94-2.06 2.06-.94-2.06-.94-.94-2.06-.94 2.06-2.06.94zm-11 1L8.5 8.5l.94-2.06 2.06-.94-2.06-.94L8.5 2.5l-.94 2.06-2.06.94zm10 10l.94 2.06.94-2.06 2.06-.94-2.06-.94-.94-2.06-.94 2.06-2.06.94z\"/><path d=\"M17.41 7.96l-1.37-1.37c-.4-.4-.92-.59-1.43-.59-.52 0-1.04.2-1.43.59L10.3 9.45l-7.72 7.72c-.78.78-.78 2.05 0 2.83L4 21.41c.39.39.9.59 1.41.59.51 0 1.02-.2 1.41-.59l7.78-7.78 2.81-2.81c.8-.78.8-2.07 0-2.86zM5.41 20L4 18.59l7.72-7.72 1.47 1.35L5.41 20z\"/>\n",
              "  </svg>\n",
              "      </button>\n",
              "      \n",
              "  <style>\n",
              "    .colab-df-container {\n",
              "      display:flex;\n",
              "      flex-wrap:wrap;\n",
              "      gap: 12px;\n",
              "    }\n",
              "\n",
              "    .colab-df-convert {\n",
              "      background-color: #E8F0FE;\n",
              "      border: none;\n",
              "      border-radius: 50%;\n",
              "      cursor: pointer;\n",
              "      display: none;\n",
              "      fill: #1967D2;\n",
              "      height: 32px;\n",
              "      padding: 0 0 0 0;\n",
              "      width: 32px;\n",
              "    }\n",
              "\n",
              "    .colab-df-convert:hover {\n",
              "      background-color: #E2EBFA;\n",
              "      box-shadow: 0px 1px 2px rgba(60, 64, 67, 0.3), 0px 1px 3px 1px rgba(60, 64, 67, 0.15);\n",
              "      fill: #174EA6;\n",
              "    }\n",
              "\n",
              "    [theme=dark] .colab-df-convert {\n",
              "      background-color: #3B4455;\n",
              "      fill: #D2E3FC;\n",
              "    }\n",
              "\n",
              "    [theme=dark] .colab-df-convert:hover {\n",
              "      background-color: #434B5C;\n",
              "      box-shadow: 0px 1px 3px 1px rgba(0, 0, 0, 0.15);\n",
              "      filter: drop-shadow(0px 1px 2px rgba(0, 0, 0, 0.3));\n",
              "      fill: #FFFFFF;\n",
              "    }\n",
              "  </style>\n",
              "\n",
              "      <script>\n",
              "        const buttonEl =\n",
              "          document.querySelector('#df-c759e775-7978-44e2-a8f1-7fbbdbd55079 button.colab-df-convert');\n",
              "        buttonEl.style.display =\n",
              "          google.colab.kernel.accessAllowed ? 'block' : 'none';\n",
              "\n",
              "        async function convertToInteractive(key) {\n",
              "          const element = document.querySelector('#df-c759e775-7978-44e2-a8f1-7fbbdbd55079');\n",
              "          const dataTable =\n",
              "            await google.colab.kernel.invokeFunction('convertToInteractive',\n",
              "                                                     [key], {});\n",
              "          if (!dataTable) return;\n",
              "\n",
              "          const docLinkHtml = 'Like what you see? Visit the ' +\n",
              "            '<a target=\"_blank\" href=https://colab.research.google.com/notebooks/data_table.ipynb>data table notebook</a>'\n",
              "            + ' to learn more about interactive tables.';\n",
              "          element.innerHTML = '';\n",
              "          dataTable['output_type'] = 'display_data';\n",
              "          await google.colab.output.renderOutput(dataTable, element);\n",
              "          const docLink = document.createElement('div');\n",
              "          docLink.innerHTML = docLinkHtml;\n",
              "          element.appendChild(docLink);\n",
              "        }\n",
              "      </script>\n",
              "    </div>\n",
              "  </div>\n",
              "  "
            ]
          },
          "metadata": {},
          "execution_count": 18
        }
      ]
    },
    {
      "cell_type": "markdown",
      "source": [
        "Generating Sythentic Data"
      ],
      "metadata": {
        "id": "kGz9qjtr42Li"
      }
    },
    {
      "cell_type": "code",
      "source": [
        "synthetic_data = synthesizer.sample(\n",
        "    num_rows=10000\n",
        ")\n",
        "\n",
        "synthetic_data.head(3)"
      ],
      "metadata": {
        "colab": {
          "base_uri": "https://localhost:8080/",
          "height": 143
        },
        "id": "hOSuaczY4xCc",
        "outputId": "ec5e7daa-8907-4e74-be58-157934645156"
      },
      "execution_count": null,
      "outputs": [
        {
          "output_type": "execute_result",
          "data": {
            "text/plain": [
              "                  txn_date  account_number                    email  \\\n",
              "0  2023-02-13 06:03:34.813          641994  michaelsanders@shaw.net   \n",
              "1  2023-02-22 07:10:57.113          125522    webermelissa@neal.com   \n",
              "2   2023-02-22 14:58:23.75          384351  jonesernest@example.net   \n",
              "\n",
              "  debitcreditindicator  transactionamount currency  current_balance  \n",
              "0                    C      533436.550370      ZAR     0.000000e+00  \n",
              "1                    C      952137.939639      ZAR     2.505373e+06  \n",
              "2                    D      268545.933199      ZAR     0.000000e+00  "
            ],
            "text/html": [
              "\n",
              "  <div id=\"df-648bfe5e-b647-48a2-b5e1-0144a3f8b739\">\n",
              "    <div class=\"colab-df-container\">\n",
              "      <div>\n",
              "<style scoped>\n",
              "    .dataframe tbody tr th:only-of-type {\n",
              "        vertical-align: middle;\n",
              "    }\n",
              "\n",
              "    .dataframe tbody tr th {\n",
              "        vertical-align: top;\n",
              "    }\n",
              "\n",
              "    .dataframe thead th {\n",
              "        text-align: right;\n",
              "    }\n",
              "</style>\n",
              "<table border=\"1\" class=\"dataframe\">\n",
              "  <thead>\n",
              "    <tr style=\"text-align: right;\">\n",
              "      <th></th>\n",
              "      <th>txn_date</th>\n",
              "      <th>account_number</th>\n",
              "      <th>email</th>\n",
              "      <th>debitcreditindicator</th>\n",
              "      <th>transactionamount</th>\n",
              "      <th>currency</th>\n",
              "      <th>current_balance</th>\n",
              "    </tr>\n",
              "  </thead>\n",
              "  <tbody>\n",
              "    <tr>\n",
              "      <th>0</th>\n",
              "      <td>2023-02-13 06:03:34.813</td>\n",
              "      <td>641994</td>\n",
              "      <td>michaelsanders@shaw.net</td>\n",
              "      <td>C</td>\n",
              "      <td>533436.550370</td>\n",
              "      <td>ZAR</td>\n",
              "      <td>0.000000e+00</td>\n",
              "    </tr>\n",
              "    <tr>\n",
              "      <th>1</th>\n",
              "      <td>2023-02-22 07:10:57.113</td>\n",
              "      <td>125522</td>\n",
              "      <td>webermelissa@neal.com</td>\n",
              "      <td>C</td>\n",
              "      <td>952137.939639</td>\n",
              "      <td>ZAR</td>\n",
              "      <td>2.505373e+06</td>\n",
              "    </tr>\n",
              "    <tr>\n",
              "      <th>2</th>\n",
              "      <td>2023-02-22 14:58:23.75</td>\n",
              "      <td>384351</td>\n",
              "      <td>jonesernest@example.net</td>\n",
              "      <td>D</td>\n",
              "      <td>268545.933199</td>\n",
              "      <td>ZAR</td>\n",
              "      <td>0.000000e+00</td>\n",
              "    </tr>\n",
              "  </tbody>\n",
              "</table>\n",
              "</div>\n",
              "      <button class=\"colab-df-convert\" onclick=\"convertToInteractive('df-648bfe5e-b647-48a2-b5e1-0144a3f8b739')\"\n",
              "              title=\"Convert this dataframe to an interactive table.\"\n",
              "              style=\"display:none;\">\n",
              "        \n",
              "  <svg xmlns=\"http://www.w3.org/2000/svg\" height=\"24px\"viewBox=\"0 0 24 24\"\n",
              "       width=\"24px\">\n",
              "    <path d=\"M0 0h24v24H0V0z\" fill=\"none\"/>\n",
              "    <path d=\"M18.56 5.44l.94 2.06.94-2.06 2.06-.94-2.06-.94-.94-2.06-.94 2.06-2.06.94zm-11 1L8.5 8.5l.94-2.06 2.06-.94-2.06-.94L8.5 2.5l-.94 2.06-2.06.94zm10 10l.94 2.06.94-2.06 2.06-.94-2.06-.94-.94-2.06-.94 2.06-2.06.94z\"/><path d=\"M17.41 7.96l-1.37-1.37c-.4-.4-.92-.59-1.43-.59-.52 0-1.04.2-1.43.59L10.3 9.45l-7.72 7.72c-.78.78-.78 2.05 0 2.83L4 21.41c.39.39.9.59 1.41.59.51 0 1.02-.2 1.41-.59l7.78-7.78 2.81-2.81c.8-.78.8-2.07 0-2.86zM5.41 20L4 18.59l7.72-7.72 1.47 1.35L5.41 20z\"/>\n",
              "  </svg>\n",
              "      </button>\n",
              "      \n",
              "  <style>\n",
              "    .colab-df-container {\n",
              "      display:flex;\n",
              "      flex-wrap:wrap;\n",
              "      gap: 12px;\n",
              "    }\n",
              "\n",
              "    .colab-df-convert {\n",
              "      background-color: #E8F0FE;\n",
              "      border: none;\n",
              "      border-radius: 50%;\n",
              "      cursor: pointer;\n",
              "      display: none;\n",
              "      fill: #1967D2;\n",
              "      height: 32px;\n",
              "      padding: 0 0 0 0;\n",
              "      width: 32px;\n",
              "    }\n",
              "\n",
              "    .colab-df-convert:hover {\n",
              "      background-color: #E2EBFA;\n",
              "      box-shadow: 0px 1px 2px rgba(60, 64, 67, 0.3), 0px 1px 3px 1px rgba(60, 64, 67, 0.15);\n",
              "      fill: #174EA6;\n",
              "    }\n",
              "\n",
              "    [theme=dark] .colab-df-convert {\n",
              "      background-color: #3B4455;\n",
              "      fill: #D2E3FC;\n",
              "    }\n",
              "\n",
              "    [theme=dark] .colab-df-convert:hover {\n",
              "      background-color: #434B5C;\n",
              "      box-shadow: 0px 1px 3px 1px rgba(0, 0, 0, 0.15);\n",
              "      filter: drop-shadow(0px 1px 2px rgba(0, 0, 0, 0.3));\n",
              "      fill: #FFFFFF;\n",
              "    }\n",
              "  </style>\n",
              "\n",
              "      <script>\n",
              "        const buttonEl =\n",
              "          document.querySelector('#df-648bfe5e-b647-48a2-b5e1-0144a3f8b739 button.colab-df-convert');\n",
              "        buttonEl.style.display =\n",
              "          google.colab.kernel.accessAllowed ? 'block' : 'none';\n",
              "\n",
              "        async function convertToInteractive(key) {\n",
              "          const element = document.querySelector('#df-648bfe5e-b647-48a2-b5e1-0144a3f8b739');\n",
              "          const dataTable =\n",
              "            await google.colab.kernel.invokeFunction('convertToInteractive',\n",
              "                                                     [key], {});\n",
              "          if (!dataTable) return;\n",
              "\n",
              "          const docLinkHtml = 'Like what you see? Visit the ' +\n",
              "            '<a target=\"_blank\" href=https://colab.research.google.com/notebooks/data_table.ipynb>data table notebook</a>'\n",
              "            + ' to learn more about interactive tables.';\n",
              "          element.innerHTML = '';\n",
              "          dataTable['output_type'] = 'display_data';\n",
              "          await google.colab.output.renderOutput(dataTable, element);\n",
              "          const docLink = document.createElement('div');\n",
              "          docLink.innerHTML = docLinkHtml;\n",
              "          element.appendChild(docLink);\n",
              "        }\n",
              "      </script>\n",
              "    </div>\n",
              "  </div>\n",
              "  "
            ]
          },
          "metadata": {},
          "execution_count": 19
        }
      ]
    },
    {
      "cell_type": "code",
      "source": [
        "len(synthetic_data)"
      ],
      "metadata": {
        "colab": {
          "base_uri": "https://localhost:8080/"
        },
        "id": "TXRFFAKC5Ei3",
        "outputId": "84f6f464-d64d-40a6-d0e9-1a2a7c2cbd55"
      },
      "execution_count": null,
      "outputs": [
        {
          "output_type": "execute_result",
          "data": {
            "text/plain": [
              "10000"
            ]
          },
          "metadata": {},
          "execution_count": 20
        }
      ]
    },
    {
      "cell_type": "markdown",
      "source": [
        "Data Quality Check: This is an awesome add"
      ],
      "metadata": {
        "id": "NadkvA1w5I83"
      }
    },
    {
      "cell_type": "code",
      "source": [
        "from sdv.evaluation.single_table import evaluate_quality\n",
        "\n",
        "quality_report = evaluate_quality(\n",
        "    real_data,\n",
        "    synthetic_data,\n",
        "    metadata\n",
        ")"
      ],
      "metadata": {
        "colab": {
          "base_uri": "https://localhost:8080/"
        },
        "id": "M6_pjDJw5LK6",
        "outputId": "a197c4f3-8716-4e43-ea33-1d2f60235c63"
      },
      "execution_count": null,
      "outputs": [
        {
          "output_type": "stream",
          "name": "stderr",
          "text": [
            "Creating report: 100%|██████████| 4/4 [00:01<00:00,  2.36it/s]\n"
          ]
        },
        {
          "output_type": "stream",
          "name": "stdout",
          "text": [
            "\n",
            "Overall Quality Score: 73.52%\n",
            "\n",
            "Properties:\n",
            "Column Shapes: 76.02%\n",
            "Column Pair Trends: 71.03%\n"
          ]
        }
      ]
    },
    {
      "cell_type": "markdown",
      "source": [
        "Evaluating Real_Data VS Synthetic Data"
      ],
      "metadata": {
        "id": "96CrSXg_5ZVW"
      }
    },
    {
      "cell_type": "code",
      "source": [
        "synthesizer.save('data_synthesized.pkl')\n",
        "\n",
        "synthesizer = SingleTablePreset.load('data_synthesized.pkl')"
      ],
      "metadata": {
        "id": "37X-SjYX5W2r"
      },
      "execution_count": null,
      "outputs": []
    }
  ]
}