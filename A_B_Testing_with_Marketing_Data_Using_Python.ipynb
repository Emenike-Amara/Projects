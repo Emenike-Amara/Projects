{
  "nbformat": 4,
  "nbformat_minor": 0,
  "metadata": {
    "colab": {
      "provenance": [],
      "authorship_tag": "ABX9TyOwzsMGxfqOFrdTFMqORECw",
      "include_colab_link": true
    },
    "kernelspec": {
      "name": "python3",
      "display_name": "Python 3"
    },
    "language_info": {
      "name": "python"
    }
  },
  "cells": [
    {
      "cell_type": "markdown",
      "metadata": {
        "id": "view-in-github",
        "colab_type": "text"
      },
      "source": [
        "<a href=\"https://colab.research.google.com/github/Emenike-Amara/Projects/blob/main/A_B_Testing_with_Marketing_Data_Using_Python.ipynb\" target=\"_parent\"><img src=\"https://colab.research.google.com/assets/colab-badge.svg\" alt=\"Open In Colab\"/></a>"
      ]
    },
    {
      "cell_type": "markdown",
      "source": [
        "# **Introduction** ✨\n",
        "\n",
        "Somara is -- a fictitious organization-- dedicated to making a positive impact in the world. The marketing team at Somara is passionate about maximizing the effectiveness of their campaigns and ensuring that their efforts generates a significant return on investment. They are faced with a critical question: should they rely on Public Service Announcements (PSAs) or explore the potential of traditional advertisements to reach their target audience and drive the desired action?\n",
        "\n",
        "To tackle this challenge, the team turned to the Data team to offer a method to scientifically evaluate and compare the impact of different approaches, providing them with valuable insights to inform their marketing strategy.\n",
        "\n",
        "\n",
        "\n",
        "\n",
        "---\n",
        "\n",
        "\n",
        "\n",
        "*Join me as we explore the power of A/B testing and witness how it can unlock the potential for success in marketing campaigns.*"
      ],
      "metadata": {
        "id": "bTex6iAua7KR"
      }
    },
    {
      "cell_type": "markdown",
      "source": [
        "# **Project Objective ✨**\n",
        "This project is geared towards A/B testing for a captivating marketing campaign, it will explore the impact of two different approaches: advertisements and public service announcements (PSAs). \n",
        "The idea of the dataset is to analyze the groups, find if the ads were successful, how much the company can make from the ads, and if the difference between the groups is statistically significant.\n",
        "\n",
        "\n",
        "\n",
        "---\n",
        "You can view the dataset [here](https://www.kaggle.com/datasets/faviovaz/marketing-ab-testing?resource=download). \n",
        "\n",
        "\n",
        "***Let's delve in***"
      ],
      "metadata": {
        "id": "wmwrGmb4z2MS"
      }
    },
    {
      "cell_type": "markdown",
      "source": [
        "# **Step 1** ▶ : Connecting to the dataset and Importing the necessary Librabries"
      ],
      "metadata": {
        "id": "a11o00wKWjGO"
      }
    },
    {
      "cell_type": "code",
      "source": [
        "#Install this package so I can view the chart\n",
        "!pip install altair_viewer\n",
        "!pip install vega_datasets\n",
        "!pip install vega"
      ],
      "metadata": {
        "id": "xxwgNgI7t316"
      },
      "execution_count": null,
      "outputs": []
    },
    {
      "cell_type": "code",
      "source": [
        "#Loading data and declaring path reference\n",
        "import pandas as pd\n",
        "import numpy as np\n",
        "import matplotlib.pyplot as plt\n",
        "import seaborn as sns\n",
        "import scipy.stats as stats\n",
        "import altair as alt\n",
        "alt.data_transformers.disable_max_rows()\n",
        "alt.renderers.enable('altair_viewer')\n",
        "from google.colab import drive\n",
        "drive.mount('/content/drive')\n",
        "path1='/content/drive/My Drive/marketing_AB.csv'\n",
        "\n"
      ],
      "metadata": {
        "colab": {
          "base_uri": "https://localhost:8080/"
        },
        "id": "F8dp7lzLAiDJ",
        "outputId": "1d1ce400-604a-42ab-a13e-dd05edfcaed0"
      },
      "execution_count": null,
      "outputs": [
        {
          "output_type": "stream",
          "name": "stdout",
          "text": [
            "Mounted at /content/drive\n"
          ]
        }
      ]
    },
    {
      "cell_type": "code",
      "source": [
        "# Data\n",
        "data = pd.read_csv(path1)\n",
        "data.head()"
      ],
      "metadata": {
        "colab": {
          "base_uri": "https://localhost:8080/",
          "height": 206
        },
        "id": "BLmQKmjzBaNg",
        "outputId": "e2db8489-2314-41bd-ac26-8810884af982"
      },
      "execution_count": null,
      "outputs": [
        {
          "output_type": "execute_result",
          "data": {
            "text/plain": [
              "   Unnamed: 0  user id test group  converted  total ads most ads day  \\\n",
              "0           0  1069124         ad      False        130       Monday   \n",
              "1           1  1119715         ad      False         93      Tuesday   \n",
              "2           2  1144181         ad      False         21      Tuesday   \n",
              "3           3  1435133         ad      False        355      Tuesday   \n",
              "4           4  1015700         ad      False        276       Friday   \n",
              "\n",
              "   most ads hour  \n",
              "0             20  \n",
              "1             22  \n",
              "2             18  \n",
              "3             10  \n",
              "4             14  "
            ],
            "text/html": [
              "\n",
              "  <div id=\"df-a1c44269-1cc5-490e-8091-d95cde7c2152\">\n",
              "    <div class=\"colab-df-container\">\n",
              "      <div>\n",
              "<style scoped>\n",
              "    .dataframe tbody tr th:only-of-type {\n",
              "        vertical-align: middle;\n",
              "    }\n",
              "\n",
              "    .dataframe tbody tr th {\n",
              "        vertical-align: top;\n",
              "    }\n",
              "\n",
              "    .dataframe thead th {\n",
              "        text-align: right;\n",
              "    }\n",
              "</style>\n",
              "<table border=\"1\" class=\"dataframe\">\n",
              "  <thead>\n",
              "    <tr style=\"text-align: right;\">\n",
              "      <th></th>\n",
              "      <th>Unnamed: 0</th>\n",
              "      <th>user id</th>\n",
              "      <th>test group</th>\n",
              "      <th>converted</th>\n",
              "      <th>total ads</th>\n",
              "      <th>most ads day</th>\n",
              "      <th>most ads hour</th>\n",
              "    </tr>\n",
              "  </thead>\n",
              "  <tbody>\n",
              "    <tr>\n",
              "      <th>0</th>\n",
              "      <td>0</td>\n",
              "      <td>1069124</td>\n",
              "      <td>ad</td>\n",
              "      <td>False</td>\n",
              "      <td>130</td>\n",
              "      <td>Monday</td>\n",
              "      <td>20</td>\n",
              "    </tr>\n",
              "    <tr>\n",
              "      <th>1</th>\n",
              "      <td>1</td>\n",
              "      <td>1119715</td>\n",
              "      <td>ad</td>\n",
              "      <td>False</td>\n",
              "      <td>93</td>\n",
              "      <td>Tuesday</td>\n",
              "      <td>22</td>\n",
              "    </tr>\n",
              "    <tr>\n",
              "      <th>2</th>\n",
              "      <td>2</td>\n",
              "      <td>1144181</td>\n",
              "      <td>ad</td>\n",
              "      <td>False</td>\n",
              "      <td>21</td>\n",
              "      <td>Tuesday</td>\n",
              "      <td>18</td>\n",
              "    </tr>\n",
              "    <tr>\n",
              "      <th>3</th>\n",
              "      <td>3</td>\n",
              "      <td>1435133</td>\n",
              "      <td>ad</td>\n",
              "      <td>False</td>\n",
              "      <td>355</td>\n",
              "      <td>Tuesday</td>\n",
              "      <td>10</td>\n",
              "    </tr>\n",
              "    <tr>\n",
              "      <th>4</th>\n",
              "      <td>4</td>\n",
              "      <td>1015700</td>\n",
              "      <td>ad</td>\n",
              "      <td>False</td>\n",
              "      <td>276</td>\n",
              "      <td>Friday</td>\n",
              "      <td>14</td>\n",
              "    </tr>\n",
              "  </tbody>\n",
              "</table>\n",
              "</div>\n",
              "      <button class=\"colab-df-convert\" onclick=\"convertToInteractive('df-a1c44269-1cc5-490e-8091-d95cde7c2152')\"\n",
              "              title=\"Convert this dataframe to an interactive table.\"\n",
              "              style=\"display:none;\">\n",
              "        \n",
              "  <svg xmlns=\"http://www.w3.org/2000/svg\" height=\"24px\"viewBox=\"0 0 24 24\"\n",
              "       width=\"24px\">\n",
              "    <path d=\"M0 0h24v24H0V0z\" fill=\"none\"/>\n",
              "    <path d=\"M18.56 5.44l.94 2.06.94-2.06 2.06-.94-2.06-.94-.94-2.06-.94 2.06-2.06.94zm-11 1L8.5 8.5l.94-2.06 2.06-.94-2.06-.94L8.5 2.5l-.94 2.06-2.06.94zm10 10l.94 2.06.94-2.06 2.06-.94-2.06-.94-.94-2.06-.94 2.06-2.06.94z\"/><path d=\"M17.41 7.96l-1.37-1.37c-.4-.4-.92-.59-1.43-.59-.52 0-1.04.2-1.43.59L10.3 9.45l-7.72 7.72c-.78.78-.78 2.05 0 2.83L4 21.41c.39.39.9.59 1.41.59.51 0 1.02-.2 1.41-.59l7.78-7.78 2.81-2.81c.8-.78.8-2.07 0-2.86zM5.41 20L4 18.59l7.72-7.72 1.47 1.35L5.41 20z\"/>\n",
              "  </svg>\n",
              "      </button>\n",
              "      \n",
              "  <style>\n",
              "    .colab-df-container {\n",
              "      display:flex;\n",
              "      flex-wrap:wrap;\n",
              "      gap: 12px;\n",
              "    }\n",
              "\n",
              "    .colab-df-convert {\n",
              "      background-color: #E8F0FE;\n",
              "      border: none;\n",
              "      border-radius: 50%;\n",
              "      cursor: pointer;\n",
              "      display: none;\n",
              "      fill: #1967D2;\n",
              "      height: 32px;\n",
              "      padding: 0 0 0 0;\n",
              "      width: 32px;\n",
              "    }\n",
              "\n",
              "    .colab-df-convert:hover {\n",
              "      background-color: #E2EBFA;\n",
              "      box-shadow: 0px 1px 2px rgba(60, 64, 67, 0.3), 0px 1px 3px 1px rgba(60, 64, 67, 0.15);\n",
              "      fill: #174EA6;\n",
              "    }\n",
              "\n",
              "    [theme=dark] .colab-df-convert {\n",
              "      background-color: #3B4455;\n",
              "      fill: #D2E3FC;\n",
              "    }\n",
              "\n",
              "    [theme=dark] .colab-df-convert:hover {\n",
              "      background-color: #434B5C;\n",
              "      box-shadow: 0px 1px 3px 1px rgba(0, 0, 0, 0.15);\n",
              "      filter: drop-shadow(0px 1px 2px rgba(0, 0, 0, 0.3));\n",
              "      fill: #FFFFFF;\n",
              "    }\n",
              "  </style>\n",
              "\n",
              "      <script>\n",
              "        const buttonEl =\n",
              "          document.querySelector('#df-a1c44269-1cc5-490e-8091-d95cde7c2152 button.colab-df-convert');\n",
              "        buttonEl.style.display =\n",
              "          google.colab.kernel.accessAllowed ? 'block' : 'none';\n",
              "\n",
              "        async function convertToInteractive(key) {\n",
              "          const element = document.querySelector('#df-a1c44269-1cc5-490e-8091-d95cde7c2152');\n",
              "          const dataTable =\n",
              "            await google.colab.kernel.invokeFunction('convertToInteractive',\n",
              "                                                     [key], {});\n",
              "          if (!dataTable) return;\n",
              "\n",
              "          const docLinkHtml = 'Like what you see? Visit the ' +\n",
              "            '<a target=\"_blank\" href=https://colab.research.google.com/notebooks/data_table.ipynb>data table notebook</a>'\n",
              "            + ' to learn more about interactive tables.';\n",
              "          element.innerHTML = '';\n",
              "          dataTable['output_type'] = 'display_data';\n",
              "          await google.colab.output.renderOutput(dataTable, element);\n",
              "          const docLink = document.createElement('div');\n",
              "          docLink.innerHTML = docLinkHtml;\n",
              "          element.appendChild(docLink);\n",
              "        }\n",
              "      </script>\n",
              "    </div>\n",
              "  </div>\n",
              "  "
            ]
          },
          "metadata": {},
          "execution_count": 8
        }
      ]
    },
    {
      "cell_type": "markdown",
      "source": [
        "# **Step 2** ▶: Exploratory Data Analysis "
      ],
      "metadata": {
        "id": "0ya1DTkfWSlX"
      }
    },
    {
      "cell_type": "code",
      "source": [
        "data['test group'].unique()"
      ],
      "metadata": {
        "colab": {
          "base_uri": "https://localhost:8080/"
        },
        "id": "neNPrnHCFo0X",
        "outputId": "adc1cdbd-950c-4418-b59f-c550a82d53b1"
      },
      "execution_count": null,
      "outputs": [
        {
          "output_type": "execute_result",
          "data": {
            "text/plain": [
              "array(['ad', 'psa'], dtype=object)"
            ]
          },
          "metadata": {},
          "execution_count": 9
        }
      ]
    },
    {
      "cell_type": "code",
      "source": [
        "#clean the column names\n",
        "\n",
        "data.columns = np.array(pd.Series(data.columns).apply(lambda x: x.replace(' ', '_')))"
      ],
      "metadata": {
        "id": "Tug7qxrtZYCD"
      },
      "execution_count": null,
      "outputs": []
    },
    {
      "cell_type": "code",
      "source": [
        "data.head()"
      ],
      "metadata": {
        "colab": {
          "base_uri": "https://localhost:8080/",
          "height": 206
        },
        "id": "RxvIgZ9eZrMy",
        "outputId": "dbbfd875-352b-4460-f38c-5ce666df46b9"
      },
      "execution_count": null,
      "outputs": [
        {
          "output_type": "execute_result",
          "data": {
            "text/plain": [
              "   Unnamed:_0  user_id test_group  converted  total_ads most_ads_day  \\\n",
              "0           0  1069124         ad      False        130       Monday   \n",
              "1           1  1119715         ad      False         93      Tuesday   \n",
              "2           2  1144181         ad      False         21      Tuesday   \n",
              "3           3  1435133         ad      False        355      Tuesday   \n",
              "4           4  1015700         ad      False        276       Friday   \n",
              "\n",
              "   most_ads_hour  \n",
              "0             20  \n",
              "1             22  \n",
              "2             18  \n",
              "3             10  \n",
              "4             14  "
            ],
            "text/html": [
              "\n",
              "  <div id=\"df-ce180908-bb09-48e0-98fd-9ad15472652b\">\n",
              "    <div class=\"colab-df-container\">\n",
              "      <div>\n",
              "<style scoped>\n",
              "    .dataframe tbody tr th:only-of-type {\n",
              "        vertical-align: middle;\n",
              "    }\n",
              "\n",
              "    .dataframe tbody tr th {\n",
              "        vertical-align: top;\n",
              "    }\n",
              "\n",
              "    .dataframe thead th {\n",
              "        text-align: right;\n",
              "    }\n",
              "</style>\n",
              "<table border=\"1\" class=\"dataframe\">\n",
              "  <thead>\n",
              "    <tr style=\"text-align: right;\">\n",
              "      <th></th>\n",
              "      <th>Unnamed:_0</th>\n",
              "      <th>user_id</th>\n",
              "      <th>test_group</th>\n",
              "      <th>converted</th>\n",
              "      <th>total_ads</th>\n",
              "      <th>most_ads_day</th>\n",
              "      <th>most_ads_hour</th>\n",
              "    </tr>\n",
              "  </thead>\n",
              "  <tbody>\n",
              "    <tr>\n",
              "      <th>0</th>\n",
              "      <td>0</td>\n",
              "      <td>1069124</td>\n",
              "      <td>ad</td>\n",
              "      <td>False</td>\n",
              "      <td>130</td>\n",
              "      <td>Monday</td>\n",
              "      <td>20</td>\n",
              "    </tr>\n",
              "    <tr>\n",
              "      <th>1</th>\n",
              "      <td>1</td>\n",
              "      <td>1119715</td>\n",
              "      <td>ad</td>\n",
              "      <td>False</td>\n",
              "      <td>93</td>\n",
              "      <td>Tuesday</td>\n",
              "      <td>22</td>\n",
              "    </tr>\n",
              "    <tr>\n",
              "      <th>2</th>\n",
              "      <td>2</td>\n",
              "      <td>1144181</td>\n",
              "      <td>ad</td>\n",
              "      <td>False</td>\n",
              "      <td>21</td>\n",
              "      <td>Tuesday</td>\n",
              "      <td>18</td>\n",
              "    </tr>\n",
              "    <tr>\n",
              "      <th>3</th>\n",
              "      <td>3</td>\n",
              "      <td>1435133</td>\n",
              "      <td>ad</td>\n",
              "      <td>False</td>\n",
              "      <td>355</td>\n",
              "      <td>Tuesday</td>\n",
              "      <td>10</td>\n",
              "    </tr>\n",
              "    <tr>\n",
              "      <th>4</th>\n",
              "      <td>4</td>\n",
              "      <td>1015700</td>\n",
              "      <td>ad</td>\n",
              "      <td>False</td>\n",
              "      <td>276</td>\n",
              "      <td>Friday</td>\n",
              "      <td>14</td>\n",
              "    </tr>\n",
              "  </tbody>\n",
              "</table>\n",
              "</div>\n",
              "      <button class=\"colab-df-convert\" onclick=\"convertToInteractive('df-ce180908-bb09-48e0-98fd-9ad15472652b')\"\n",
              "              title=\"Convert this dataframe to an interactive table.\"\n",
              "              style=\"display:none;\">\n",
              "        \n",
              "  <svg xmlns=\"http://www.w3.org/2000/svg\" height=\"24px\"viewBox=\"0 0 24 24\"\n",
              "       width=\"24px\">\n",
              "    <path d=\"M0 0h24v24H0V0z\" fill=\"none\"/>\n",
              "    <path d=\"M18.56 5.44l.94 2.06.94-2.06 2.06-.94-2.06-.94-.94-2.06-.94 2.06-2.06.94zm-11 1L8.5 8.5l.94-2.06 2.06-.94-2.06-.94L8.5 2.5l-.94 2.06-2.06.94zm10 10l.94 2.06.94-2.06 2.06-.94-2.06-.94-.94-2.06-.94 2.06-2.06.94z\"/><path d=\"M17.41 7.96l-1.37-1.37c-.4-.4-.92-.59-1.43-.59-.52 0-1.04.2-1.43.59L10.3 9.45l-7.72 7.72c-.78.78-.78 2.05 0 2.83L4 21.41c.39.39.9.59 1.41.59.51 0 1.02-.2 1.41-.59l7.78-7.78 2.81-2.81c.8-.78.8-2.07 0-2.86zM5.41 20L4 18.59l7.72-7.72 1.47 1.35L5.41 20z\"/>\n",
              "  </svg>\n",
              "      </button>\n",
              "      \n",
              "  <style>\n",
              "    .colab-df-container {\n",
              "      display:flex;\n",
              "      flex-wrap:wrap;\n",
              "      gap: 12px;\n",
              "    }\n",
              "\n",
              "    .colab-df-convert {\n",
              "      background-color: #E8F0FE;\n",
              "      border: none;\n",
              "      border-radius: 50%;\n",
              "      cursor: pointer;\n",
              "      display: none;\n",
              "      fill: #1967D2;\n",
              "      height: 32px;\n",
              "      padding: 0 0 0 0;\n",
              "      width: 32px;\n",
              "    }\n",
              "\n",
              "    .colab-df-convert:hover {\n",
              "      background-color: #E2EBFA;\n",
              "      box-shadow: 0px 1px 2px rgba(60, 64, 67, 0.3), 0px 1px 3px 1px rgba(60, 64, 67, 0.15);\n",
              "      fill: #174EA6;\n",
              "    }\n",
              "\n",
              "    [theme=dark] .colab-df-convert {\n",
              "      background-color: #3B4455;\n",
              "      fill: #D2E3FC;\n",
              "    }\n",
              "\n",
              "    [theme=dark] .colab-df-convert:hover {\n",
              "      background-color: #434B5C;\n",
              "      box-shadow: 0px 1px 3px 1px rgba(0, 0, 0, 0.15);\n",
              "      filter: drop-shadow(0px 1px 2px rgba(0, 0, 0, 0.3));\n",
              "      fill: #FFFFFF;\n",
              "    }\n",
              "  </style>\n",
              "\n",
              "      <script>\n",
              "        const buttonEl =\n",
              "          document.querySelector('#df-ce180908-bb09-48e0-98fd-9ad15472652b button.colab-df-convert');\n",
              "        buttonEl.style.display =\n",
              "          google.colab.kernel.accessAllowed ? 'block' : 'none';\n",
              "\n",
              "        async function convertToInteractive(key) {\n",
              "          const element = document.querySelector('#df-ce180908-bb09-48e0-98fd-9ad15472652b');\n",
              "          const dataTable =\n",
              "            await google.colab.kernel.invokeFunction('convertToInteractive',\n",
              "                                                     [key], {});\n",
              "          if (!dataTable) return;\n",
              "\n",
              "          const docLinkHtml = 'Like what you see? Visit the ' +\n",
              "            '<a target=\"_blank\" href=https://colab.research.google.com/notebooks/data_table.ipynb>data table notebook</a>'\n",
              "            + ' to learn more about interactive tables.';\n",
              "          element.innerHTML = '';\n",
              "          dataTable['output_type'] = 'display_data';\n",
              "          await google.colab.output.renderOutput(dataTable, element);\n",
              "          const docLink = document.createElement('div');\n",
              "          docLink.innerHTML = docLinkHtml;\n",
              "          element.appendChild(docLink);\n",
              "        }\n",
              "      </script>\n",
              "    </div>\n",
              "  </div>\n",
              "  "
            ]
          },
          "metadata": {},
          "execution_count": 12
        }
      ]
    },
    {
      "cell_type": "code",
      "source": [
        "#To determine if User activity level can be a measured metric for the experimentation\n",
        "\n",
        "data['user_id'].value_counts().sort_values()\n",
        "\n",
        "#unique entry per user"
      ],
      "metadata": {
        "colab": {
          "base_uri": "https://localhost:8080/"
        },
        "id": "8jvWV32Ciig7",
        "outputId": "7160df17-087c-428b-d078-7750a9d2ada6"
      },
      "execution_count": null,
      "outputs": [
        {
          "output_type": "execute_result",
          "data": {
            "text/plain": [
              "1069124    1\n",
              "1081965    1\n",
              "1637531    1\n",
              "1257223    1\n",
              "1492276    1\n",
              "          ..\n",
              "1313930    1\n",
              "1561741    1\n",
              "1383070    1\n",
              "1188359    1\n",
              "1237779    1\n",
              "Name: user_id, Length: 588101, dtype: int64"
            ]
          },
          "metadata": {},
          "execution_count": 13
        }
      ]
    },
    {
      "cell_type": "code",
      "source": [
        "data.info()"
      ],
      "metadata": {
        "colab": {
          "base_uri": "https://localhost:8080/"
        },
        "id": "CUhTp8fEGxYZ",
        "outputId": "90b8ed6f-9c2f-4f43-a0ba-337b6291c5c7"
      },
      "execution_count": null,
      "outputs": [
        {
          "output_type": "stream",
          "name": "stdout",
          "text": [
            "<class 'pandas.core.frame.DataFrame'>\n",
            "RangeIndex: 588101 entries, 0 to 588100\n",
            "Data columns (total 7 columns):\n",
            " #   Column         Non-Null Count   Dtype \n",
            "---  ------         --------------   ----- \n",
            " 0   Unnamed:_0     588101 non-null  int64 \n",
            " 1   user_id        588101 non-null  int64 \n",
            " 2   test_group     588101 non-null  object\n",
            " 3   converted      588101 non-null  bool  \n",
            " 4   total_ads      588101 non-null  int64 \n",
            " 5   most_ads_day   588101 non-null  object\n",
            " 6   most_ads_hour  588101 non-null  int64 \n",
            "dtypes: bool(1), int64(4), object(2)\n",
            "memory usage: 27.5+ MB\n"
          ]
        }
      ]
    },
    {
      "cell_type": "code",
      "source": [
        "#Sample size for the A/B testing\n",
        "\n",
        "len(data)"
      ],
      "metadata": {
        "colab": {
          "base_uri": "https://localhost:8080/"
        },
        "id": "antzsEH-CBrx",
        "outputId": "797cc4e5-3054-4b98-b8c4-262795a86d78"
      },
      "execution_count": null,
      "outputs": [
        {
          "output_type": "execute_result",
          "data": {
            "text/plain": [
              "588101"
            ]
          },
          "metadata": {},
          "execution_count": 15
        }
      ]
    },
    {
      "cell_type": "code",
      "source": [
        "data.describe().head()"
      ],
      "metadata": {
        "colab": {
          "base_uri": "https://localhost:8080/",
          "height": 206
        },
        "id": "9gQe5xgeY0s6",
        "outputId": "6e3c9669-e622-4702-88f0-563d48bd3912"
      },
      "execution_count": null,
      "outputs": [
        {
          "output_type": "execute_result",
          "data": {
            "text/plain": [
              "          Unnamed:_0       user_id      total_ads  most_ads_hour\n",
              "count  588101.000000  5.881010e+05  588101.000000  588101.000000\n",
              "mean   294050.000000  1.310692e+06      24.820876      14.469061\n",
              "std    169770.279668  2.022260e+05      43.715181       4.834634\n",
              "min         0.000000  9.000000e+05       1.000000       0.000000\n",
              "25%    147025.000000  1.143190e+06       4.000000      11.000000"
            ],
            "text/html": [
              "\n",
              "  <div id=\"df-b1e83a28-dde2-4155-8414-63f22bd3ba2e\">\n",
              "    <div class=\"colab-df-container\">\n",
              "      <div>\n",
              "<style scoped>\n",
              "    .dataframe tbody tr th:only-of-type {\n",
              "        vertical-align: middle;\n",
              "    }\n",
              "\n",
              "    .dataframe tbody tr th {\n",
              "        vertical-align: top;\n",
              "    }\n",
              "\n",
              "    .dataframe thead th {\n",
              "        text-align: right;\n",
              "    }\n",
              "</style>\n",
              "<table border=\"1\" class=\"dataframe\">\n",
              "  <thead>\n",
              "    <tr style=\"text-align: right;\">\n",
              "      <th></th>\n",
              "      <th>Unnamed:_0</th>\n",
              "      <th>user_id</th>\n",
              "      <th>total_ads</th>\n",
              "      <th>most_ads_hour</th>\n",
              "    </tr>\n",
              "  </thead>\n",
              "  <tbody>\n",
              "    <tr>\n",
              "      <th>count</th>\n",
              "      <td>588101.000000</td>\n",
              "      <td>5.881010e+05</td>\n",
              "      <td>588101.000000</td>\n",
              "      <td>588101.000000</td>\n",
              "    </tr>\n",
              "    <tr>\n",
              "      <th>mean</th>\n",
              "      <td>294050.000000</td>\n",
              "      <td>1.310692e+06</td>\n",
              "      <td>24.820876</td>\n",
              "      <td>14.469061</td>\n",
              "    </tr>\n",
              "    <tr>\n",
              "      <th>std</th>\n",
              "      <td>169770.279668</td>\n",
              "      <td>2.022260e+05</td>\n",
              "      <td>43.715181</td>\n",
              "      <td>4.834634</td>\n",
              "    </tr>\n",
              "    <tr>\n",
              "      <th>min</th>\n",
              "      <td>0.000000</td>\n",
              "      <td>9.000000e+05</td>\n",
              "      <td>1.000000</td>\n",
              "      <td>0.000000</td>\n",
              "    </tr>\n",
              "    <tr>\n",
              "      <th>25%</th>\n",
              "      <td>147025.000000</td>\n",
              "      <td>1.143190e+06</td>\n",
              "      <td>4.000000</td>\n",
              "      <td>11.000000</td>\n",
              "    </tr>\n",
              "  </tbody>\n",
              "</table>\n",
              "</div>\n",
              "      <button class=\"colab-df-convert\" onclick=\"convertToInteractive('df-b1e83a28-dde2-4155-8414-63f22bd3ba2e')\"\n",
              "              title=\"Convert this dataframe to an interactive table.\"\n",
              "              style=\"display:none;\">\n",
              "        \n",
              "  <svg xmlns=\"http://www.w3.org/2000/svg\" height=\"24px\"viewBox=\"0 0 24 24\"\n",
              "       width=\"24px\">\n",
              "    <path d=\"M0 0h24v24H0V0z\" fill=\"none\"/>\n",
              "    <path d=\"M18.56 5.44l.94 2.06.94-2.06 2.06-.94-2.06-.94-.94-2.06-.94 2.06-2.06.94zm-11 1L8.5 8.5l.94-2.06 2.06-.94-2.06-.94L8.5 2.5l-.94 2.06-2.06.94zm10 10l.94 2.06.94-2.06 2.06-.94-2.06-.94-.94-2.06-.94 2.06-2.06.94z\"/><path d=\"M17.41 7.96l-1.37-1.37c-.4-.4-.92-.59-1.43-.59-.52 0-1.04.2-1.43.59L10.3 9.45l-7.72 7.72c-.78.78-.78 2.05 0 2.83L4 21.41c.39.39.9.59 1.41.59.51 0 1.02-.2 1.41-.59l7.78-7.78 2.81-2.81c.8-.78.8-2.07 0-2.86zM5.41 20L4 18.59l7.72-7.72 1.47 1.35L5.41 20z\"/>\n",
              "  </svg>\n",
              "      </button>\n",
              "      \n",
              "  <style>\n",
              "    .colab-df-container {\n",
              "      display:flex;\n",
              "      flex-wrap:wrap;\n",
              "      gap: 12px;\n",
              "    }\n",
              "\n",
              "    .colab-df-convert {\n",
              "      background-color: #E8F0FE;\n",
              "      border: none;\n",
              "      border-radius: 50%;\n",
              "      cursor: pointer;\n",
              "      display: none;\n",
              "      fill: #1967D2;\n",
              "      height: 32px;\n",
              "      padding: 0 0 0 0;\n",
              "      width: 32px;\n",
              "    }\n",
              "\n",
              "    .colab-df-convert:hover {\n",
              "      background-color: #E2EBFA;\n",
              "      box-shadow: 0px 1px 2px rgba(60, 64, 67, 0.3), 0px 1px 3px 1px rgba(60, 64, 67, 0.15);\n",
              "      fill: #174EA6;\n",
              "    }\n",
              "\n",
              "    [theme=dark] .colab-df-convert {\n",
              "      background-color: #3B4455;\n",
              "      fill: #D2E3FC;\n",
              "    }\n",
              "\n",
              "    [theme=dark] .colab-df-convert:hover {\n",
              "      background-color: #434B5C;\n",
              "      box-shadow: 0px 1px 3px 1px rgba(0, 0, 0, 0.15);\n",
              "      filter: drop-shadow(0px 1px 2px rgba(0, 0, 0, 0.3));\n",
              "      fill: #FFFFFF;\n",
              "    }\n",
              "  </style>\n",
              "\n",
              "      <script>\n",
              "        const buttonEl =\n",
              "          document.querySelector('#df-b1e83a28-dde2-4155-8414-63f22bd3ba2e button.colab-df-convert');\n",
              "        buttonEl.style.display =\n",
              "          google.colab.kernel.accessAllowed ? 'block' : 'none';\n",
              "\n",
              "        async function convertToInteractive(key) {\n",
              "          const element = document.querySelector('#df-b1e83a28-dde2-4155-8414-63f22bd3ba2e');\n",
              "          const dataTable =\n",
              "            await google.colab.kernel.invokeFunction('convertToInteractive',\n",
              "                                                     [key], {});\n",
              "          if (!dataTable) return;\n",
              "\n",
              "          const docLinkHtml = 'Like what you see? Visit the ' +\n",
              "            '<a target=\"_blank\" href=https://colab.research.google.com/notebooks/data_table.ipynb>data table notebook</a>'\n",
              "            + ' to learn more about interactive tables.';\n",
              "          element.innerHTML = '';\n",
              "          dataTable['output_type'] = 'display_data';\n",
              "          await google.colab.output.renderOutput(dataTable, element);\n",
              "          const docLink = document.createElement('div');\n",
              "          docLink.innerHTML = docLinkHtml;\n",
              "          element.appendChild(docLink);\n",
              "        }\n",
              "      </script>\n",
              "    </div>\n",
              "  </div>\n",
              "  "
            ]
          },
          "metadata": {},
          "execution_count": 16
        }
      ]
    },
    {
      "cell_type": "code",
      "source": [
        "group_distribution = data['test_group'].value_counts()\n",
        "\n",
        "# Print the distribution by test group\n",
        "print(group_distribution)"
      ],
      "metadata": {
        "colab": {
          "base_uri": "https://localhost:8080/"
        },
        "id": "3vKZLez6bWrL",
        "outputId": "c127ad57-78f4-4739-a672-0ec9aa016fd9"
      },
      "execution_count": null,
      "outputs": [
        {
          "output_type": "stream",
          "name": "stdout",
          "text": [
            "ad     564577\n",
            "psa     23524\n",
            "Name: test_group, dtype: int64\n"
          ]
        }
      ]
    },
    {
      "cell_type": "markdown",
      "source": [
        "❗ The observed distribution of the groups in the dataset reveals a significant skew towards the \"ads\" group, as indicated in the datacard. It is worth noting that maintaining random selection and an equal distribution between the groups is a fundamental principle in A/B testing, typically aiming for a 50/50 split. However, in the context of this specific report, the distribution is imbalanced with a split of 96/14, deviating from the recommended guideline.\n",
        "\n",
        "In the context of marketing campaigns, it is not uncommon to have such an imbalanced distribution. This arises from the necessity of exposing a larger proportion of users to the experiment, which is usually the advertisement being tested. This approach is grounded in statistical principles, aiming to ensure sufficient statistical power, enhance the ability to detect small effects, achieve generalizability, and optimize cost efficiency.\n",
        "\n",
        "While the imbalanced distribution may deviate from the ideal 50/50 split, it is a deliberate design choice made to gather more meaningful insights from the experiment. By exposing a larger number of users to the campaign, the test becomes more sensitive to detecting subtle changes in user behavior or preferences. Additionally, it enables the evaluation of the campaign's performance within the target audience, facilitating informed decision-making based on reliable data.\n",
        "\n",
        "Therefore, while the skewed distribution may differ from the recommended guideline, it is a strategic approach in the context of marketing campaigns, driven by statistical considerations and the objective of obtaining valuable insights from the experiment."
      ],
      "metadata": {
        "id": "8txzgJOBeBqd"
      }
    },
    {
      "cell_type": "markdown",
      "source": [
        "#**Step 3** ▶: Defining and Designing the A/B Test\n",
        "We would userid for the customer and the column test group\n",
        "\n",
        "Test group value 'PSA' = 0 (Control group)\n",
        "\n",
        "Test group value 'ads' = 1 (Experimental group)\n",
        "\n",
        "**Metrics for success:** \n",
        "> Analyze by users: conversion rate per channel\n",
        "\n",
        "> How many times a user sees  an ad (to understand how the users are affected by the change)\n",
        "\n",
        "\n"
      ],
      "metadata": {
        "id": "zNiy8OanXCkg"
      }
    },
    {
      "cell_type": "code",
      "source": [
        "# Group the DataFrame by the column of interest and calculate the sum of the 'converted' column\n",
        "conversion_counts = data.groupby('test_group')['converted'].sum()\n",
        "\n",
        "# Step 2: Calculate the total number of conversions\n",
        "total_conversions = data['converted'].sum()\n",
        "\n",
        "# Step 3: Compute the percentage contribution of each class\n",
        "percentage_contribution = (conversion_counts / total_conversions) * 100\n",
        "\n",
        "# Print the results\n",
        "print(\"Conversion count by class:\")\n",
        "print(conversion_counts)\n",
        "print(\"\\nPercentage contribution of each class:\")\n",
        "print(percentage_contribution)"
      ],
      "metadata": {
        "id": "zfLsykJ0CRvl",
        "colab": {
          "base_uri": "https://localhost:8080/"
        },
        "outputId": "8ddfb2b9-8456-4718-83ce-42bd33c2748d"
      },
      "execution_count": null,
      "outputs": [
        {
          "output_type": "stream",
          "name": "stdout",
          "text": [
            "Conversion count by class:\n",
            "test_group\n",
            "ad     14423\n",
            "psa      420\n",
            "Name: converted, dtype: int64\n",
            "\n",
            "Percentage contribution of each class:\n",
            "test_group\n",
            "ad     97.170383\n",
            "psa     2.829617\n",
            "Name: converted, dtype: float64\n"
          ]
        }
      ]
    },
    {
      "cell_type": "code",
      "source": [
        "#Determine the conversion rate of the different campaigns \n",
        "\n",
        "conversion_rate = (conversion_counts/group_distribution)*100\n",
        "print (\"\\nPct_Conversion_rate of each campaign: \")\n",
        "print (conversion_rate )"
      ],
      "metadata": {
        "colab": {
          "base_uri": "https://localhost:8080/"
        },
        "id": "uWTGA0yK28RR",
        "outputId": "e31f3ca4-f035-41ce-99d1-e5a38e523780"
      },
      "execution_count": null,
      "outputs": [
        {
          "output_type": "stream",
          "name": "stdout",
          "text": [
            "\n",
            "Pct_Conversion_rate of each campaign: \n",
            "test_group\n",
            "ad     2.554656\n",
            "psa    1.785411\n",
            "dtype: float64\n"
          ]
        }
      ]
    },
    {
      "cell_type": "markdown",
      "source": [
        "From this result, we can see that ads has better conversion than the psa on a **97.17: 2.83** respectively. We can assume this is the case as a result of the skewed dataset. Let us determine the statistical significance."
      ],
      "metadata": {
        "id": "0cR3FHXzlxFX"
      }
    },
    {
      "cell_type": "code",
      "source": [
        "# Create the Altair chart using the dataframe as the data source\n",
        "\n",
        "chart = alt.Chart(data).mark_line(size=1).encode(\n",
        "    alt.X('total_ads', axis=alt.Axis(title='most_ads_day')),\n",
        "    alt.Y('user_id:Q', axis=alt.Axis(title='number_of_users')),\n",
        "    tooltip=['most_ads_day:O'], \n",
        "    color='most_ads_day:O'\n",
        ").properties(\n",
        "    width=600,\n",
        "    height=400\n",
        ")\n",
        "\n",
        "chart.show()\n"
      ],
      "metadata": {
        "id": "KHQh7ergE6Yh"
      },
      "execution_count": null,
      "outputs": []
    },
    {
      "cell_type": "markdown",
      "source": [
        "\n",
        "#**Step 4** ▶ : Hypothesis Definition\n",
        "\n",
        "H1 = With the introduction of ads,users are more likely to click on the ads and conversion rate will improve\n",
        "\n",
        "H0 = The ads campaign will have no effect on the user engagement and consequently will not affect conversion rate.\n",
        "\n",
        " *❗Caveat: The MDE was not calculated here You can now calculate your Sample size using this [Calculator](https://www.optimizely.com/sample-size-calculator/#/?conversion=2&effect=30&significance=95)*"
      ],
      "metadata": {
        "id": "7q3kfOyI3v25"
      }
    },
    {
      "cell_type": "markdown",
      "source": [
        "# Step 5 ▶ : Analyze the Results"
      ],
      "metadata": {
        "id": "P3exj_sdbayx"
      }
    },
    {
      "cell_type": "code",
      "source": [
        "# Separate data for each test group\n",
        "ad_data = data.loc[data['test_group'] == 'ad', 'converted']   #Experiment group\n",
        "psa_data = data.loc[data['test_group'] == 'psa', 'converted']  # Control group\n",
        "\n",
        "# Perform statistical analysis on the separate arrays\n",
        "\n",
        "t_statistic, p_value = stats.ttest_ind(psa_data, ad_data)\n",
        "\n",
        "# Print the results\n",
        "print(\"Group A data:\", psa_data)\n",
        "print(\"Group B data:\", ad_data)\n",
        "print(\"T-statistic:\", t_statistic)\n",
        "print(\"P-value:\", p_value)"
      ],
      "metadata": {
        "colab": {
          "base_uri": "https://localhost:8080/"
        },
        "id": "LR_3i-EPTpbx",
        "outputId": "f7db123c-a205-4057-ff1e-d104e69e2e3e"
      },
      "execution_count": null,
      "outputs": [
        {
          "output_type": "stream",
          "name": "stdout",
          "text": [
            "Group A data: 18        False\n",
            "38        False\n",
            "68        False\n",
            "140       False\n",
            "157       False\n",
            "          ...  \n",
            "588052    False\n",
            "588063    False\n",
            "588066    False\n",
            "588069    False\n",
            "588081    False\n",
            "Name: converted, Length: 23524, dtype: bool\n",
            "Group B data: 0         False\n",
            "1         False\n",
            "2         False\n",
            "3         False\n",
            "4         False\n",
            "          ...  \n",
            "588096    False\n",
            "588097    False\n",
            "588098    False\n",
            "588099    False\n",
            "588100    False\n",
            "Name: converted, Length: 564577, dtype: bool\n",
            "T-statistic: -7.37040597428566\n",
            "P-value: 1.7033052627831264e-13\n"
          ]
        }
      ]
    },
    {
      "cell_type": "code",
      "source": [
        "# Check the p-value to determine statistical significance\n",
        "\n",
        "alpha = 0.05  # Significance level\n",
        "\n",
        "if p_value < alpha:\n",
        "    print(\"Statistically significant results. Reject the null hypothesis.\")\n",
        "else:\n",
        "    print(\"Not statistically significant results. Fail to reject the null hypothesis.\")"
      ],
      "metadata": {
        "colab": {
          "base_uri": "https://localhost:8080/"
        },
        "id": "-dK0bWG_AQL4",
        "outputId": "96bef806-9e5b-477d-8dcc-44c62a4c21ab"
      },
      "execution_count": null,
      "outputs": [
        {
          "output_type": "stream",
          "name": "stdout",
          "text": [
            "Statistically significant results. Reject the null hypothesis.\n"
          ]
        }
      ]
    },
    {
      "cell_type": "markdown",
      "source": [
        "# **Step 6** ▶ : Share Findings\n",
        "\n",
        "\n",
        "\n",
        "> *Based on the statistical analysis, the test results reveal a compelling and statistically significant disparity between the two groups. This significant divergence signifies that the advertisement exerted a tangible impact on user engagement, leading to a noteworthy surge in the conversion rate. This outcome unequivocally implies an upswing in purchases and highlights the effectiveness of the advertisement in driving customer actions.*\n",
        "\n",
        "\n",
        "> To determine how much money the company will make, the defined actionable metrics are conversion rate, average order value, customer lifetime value, and revenue generated per customer. However for this project we would need to calculate the **%improvement(Lift)** which can be applied to the Lift to the baseline values of the financial metrics ."
      ],
      "metadata": {
        "id": "u3mx31BAUpGs"
      }
    },
    {
      "cell_type": "code",
      "source": [
        "mean_group_ad = data[data['test_group'] == 'ad']['converted'].mean()\n",
        "mean_group_psa = data[data['test_group'] == 'psa']['converted'].mean()\n",
        "\n",
        "print(mean_group_ad)\n",
        "print(mean_group_psa)"
      ],
      "metadata": {
        "id": "P-X3SlcfIQJb",
        "colab": {
          "base_uri": "https://localhost:8080/"
        },
        "outputId": "b51401e9-fde1-4cb6-9f91-05e53ab9c403"
      },
      "execution_count": null,
      "outputs": [
        {
          "output_type": "stream",
          "name": "stdout",
          "text": [
            "0.025546559636683747\n",
            "0.01785410644448223\n"
          ]
        }
      ]
    },
    {
      "cell_type": "code",
      "source": [
        "Lift = ((mean_group_ad - mean_group_psa) / mean_group_psa) * 100\n",
        "\n",
        "print (Lift)"
      ],
      "metadata": {
        "colab": {
          "base_uri": "https://localhost:8080/"
        },
        "id": "sBsrN-hhL6_a",
        "outputId": "3d22d6cf-d287-4266-b1a7-40f7fa45695c"
      },
      "execution_count": null,
      "outputs": [
        {
          "output_type": "stream",
          "name": "stdout",
          "text": [
            "43.085064022225836\n"
          ]
        }
      ]
    },
    {
      "cell_type": "markdown",
      "source": [
        "**Conclusion**: Based on the A/B test results, it is evident that using ads leads to a significant increase in the conversion rate compared to the control group (PSA). The data reveals a substantial **43.1% improvement** in the conversion rate when ads were utilized. This finding highlights the effectiveness of ads in driving user engagement and encouraging desired actions, showcasing the potential for increased business success and revenue generation through targeted marketing campaigns."
      ],
      "metadata": {
        "id": "U1aDuoHFlD1M"
      }
    }
  ]
}